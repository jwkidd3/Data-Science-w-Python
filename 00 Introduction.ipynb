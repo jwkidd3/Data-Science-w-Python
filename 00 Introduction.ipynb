{
 "cells": [
  {
   "cell_type": "markdown",
   "id": "725d6139",
   "metadata": {},
   "source": [
    "# Data Science with Python\n",
    "\n",
    "\n",
    "\n",
    "## Topics\n",
    "1. Python Fundamentals\n",
    "2. Data Science Overview\n",
    "3. NumPy and Scipy\n",
    "4. Statistical Analysis and Business \n",
    "5. Applications\n",
    "6. Data Manipulation with Pandas\n",
    "7. ML and NLP with Scikit–Learn\n",
    "8. Data Visualization\n",
    "9. Python Integration with Hadoop, MapReduce and Spark\n"
   ]
  }
 ],
 "metadata": {
  "kernelspec": {
   "display_name": "Python 3 (ipykernel)",
   "language": "python",
   "name": "python3"
  },
  "language_info": {
   "codemirror_mode": {
    "name": "ipython",
    "version": 3
   },
   "file_extension": ".py",
   "mimetype": "text/x-python",
   "name": "python",
   "nbconvert_exporter": "python",
   "pygments_lexer": "ipython3",
   "version": "3.9.10"
  }
 },
 "nbformat": 4,
 "nbformat_minor": 5
}
